{
 "cells": [
  {
   "cell_type": "markdown",
   "metadata": {},
   "source": [
    "# Calculate TA using CRMs"
   ]
  },
  {
   "cell_type": "markdown",
   "metadata": {},
   "source": [
    "This NoteBook shows examples of a workflow that determines the DIC and TA content of samples analysed on a VINDTA 3C (at UEA), and assesses the quality of measurements based on results for the Certified Reference Materials (CRMs) run on each analysis day. \n",
    "\n",
    "For questions, contact Elise S. Droste (e.droste@uea.ac.uk)"
   ]
  },
  {
   "cell_type": "markdown",
   "metadata": {},
   "source": [
    "***\n",
    "# Introduction"
   ]
  },
  {
   "cell_type": "markdown",
   "metadata": {},
   "source": [
    "In this NoteBook, total alkalinity (TA) is determined from raw VINDTA data using the Certified Reference Materials runs. \n",
    "\n",
    "The quality of the CRM runs is assessed and checked, removing or flagging any questionable CRM runs. The TA content of the samples will be quality checked in the `DICTA_samples_QC_ipynb` NoteBook. \n",
    "\n",
    "\n",
    "The dissolved inorganic carbon (DIC) has been processed in a separate script (`DIC_CRMs_QC.ipynb`), the output of which is used in the current NoteBook. \n"
   ]
  },
  {
   "cell_type": "markdown",
   "metadata": {},
   "source": [
    "***\n",
    "# References\n",
    "\n",
    "Dickson, 2007, ... \n",
    "\n",
    "\n",
    "Humphreys, M. P. and Matthews, R. S. (2021). Calkulate: total alkalinity from titration data in Python. Zenodo. doi:10.5281/zenodo.2634304.\n",
    "\n"
   ]
  },
  {
   "cell_type": "markdown",
   "metadata": {},
   "source": [
    "***\n",
    "# Packages"
   ]
  },
  {
   "cell_type": "code",
   "execution_count": 1,
   "metadata": {},
   "outputs": [],
   "source": [
    "import numpy as np\n",
    "import pandas as pd\n",
    "import warnings\n",
    "import datetime\n",
    "import matplotlib.pyplot as plt\n",
    "from dateutil.parser import parse\n",
    "from IPython.core.interactiveshell import InteractiveShell \n",
    "\n",
    "from pathlib import Path\n",
    "\n",
    "warnings.filterwarnings('ignore') # suppresses warning messages from packages\n",
    "InteractiveShell.ast_node_interactivity = \"all\" # allows you to see multiple outputs from a single cell"
   ]
  },
  {
   "cell_type": "code",
   "execution_count": 2,
   "metadata": {},
   "outputs": [],
   "source": [
    "# import plotly\n",
    "# plotly.offline.init_notebook_mode(connected=True)"
   ]
  },
  {
   "cell_type": "code",
   "execution_count": 3,
   "metadata": {},
   "outputs": [],
   "source": [
    "# To see plotly figures in this notebook: \n",
    "import plotly.io as pio\n",
    "pio.renderers.default = 'iframe' # or 'colab' or 'iframe' or 'iframe_connected' or 'sphinx_gallery'\n"
   ]
  },
  {
   "cell_type": "code",
   "execution_count": 4,
   "metadata": {},
   "outputs": [],
   "source": [
    "# import plotly.graph_objects as go\n",
    "# fig = go.Figure(data=go.Bar(y=[2, 3, 1]))\n",
    "# fig.show()"
   ]
  },
  {
   "cell_type": "markdown",
   "metadata": {},
   "source": [
    "We use the Python package Calkulate to determine the titrant molality and the TA content. \n",
    "\n",
    "Online documentation for Calkulate: https://calkulate.hseao3.group/"
   ]
  },
  {
   "cell_type": "code",
   "execution_count": 5,
   "metadata": {},
   "outputs": [
    {
     "name": "stdout",
     "output_type": "stream",
     "text": [
      "\n",
      "   .--.     . .         .      .      \n",
      "  :         | |         |     _|_     \n",
      "  |    .-.  | |.-. .  . | .-.  |  .-. \n",
      "  :   (   ) | |-.' |  | |(   ) | (.-' \n",
      "   `--'`-'`-`-'  `-`--`-`-`-'`-`-'`--'\n",
      "\n",
      "       doi:10.5281/zenodo.2634304\n",
      "       \n",
      "             Version 23.1.0\n",
      "\n"
     ]
    }
   ],
   "source": [
    "import calkulate as calk # Version >= 23 \n",
    "calk.hello()"
   ]
  },
  {
   "cell_type": "markdown",
   "metadata": {},
   "source": [
    "***\n",
    "# Modules"
   ]
  },
  {
   "cell_type": "markdown",
   "metadata": {},
   "source": [
    "`calc_TA` is a module that uses a Class containing functions for the total alkalinity data processing. It ensures consistent processing and formatting of the data. Import here. Classes are created after the data has been imported. "
   ]
  },
  {
   "cell_type": "code",
   "execution_count": 6,
   "metadata": {},
   "outputs": [
    {
     "name": "stdout",
     "output_type": "stream",
     "text": [
      "Hello! Before running the CalcTA Class, make sure the filenames of the runs are correct and DIC has been calculated.\n",
      "Imported crmbatch script.\n",
      "Imported CalcTA class.\n"
     ]
    }
   ],
   "source": [
    "from UEA_VINDTA_pkg.calc_TA import CalcTA"
   ]
  },
  {
   "cell_type": "markdown",
   "metadata": {},
   "source": [
    "The classes and their methods use the column names given in `column_names.py`. "
   ]
  },
  {
   "cell_type": "code",
   "execution_count": 8,
   "metadata": {},
   "outputs": [],
   "source": [
    "from UEA_VINDTA_pkg import column_names"
   ]
  },
  {
   "cell_type": "markdown",
   "metadata": {},
   "source": [
    "***\n",
    "# Import Data"
   ]
  },
  {
   "cell_type": "markdown",
   "metadata": {},
   "source": [
    "eThe imported data has already been processed for DIC in `DIC_CRMs_QC.ipynb`. In addition, it has been checked for filenaming mistakes, sample temperature corrections, and aborted runs (for which there is no data) have been removed in `DICTA_fileprep.ipynb`. "
   ]
  },
  {
   "cell_type": "code",
   "execution_count": 10,
   "metadata": {},
   "outputs": [],
   "source": [
    "datadir = Path(\"../output_data/DIC_calculated/\")\n",
    "datafile = \"dic_prelim_20250109.csv\" \n",
    "\n",
    "vindta_data = pd.read_csv(Path(datadir) / datafile, na_values = -999) "
   ]
  },
  {
   "cell_type": "markdown",
   "metadata": {},
   "source": [
    "***\n",
    "# Create Classes"
   ]
  },
  {
   "cell_type": "markdown",
   "metadata": {},
   "source": [
    "## Class"
   ]
  },
  {
   "cell_type": "markdown",
   "metadata": {},
   "source": [
    "Create the classes that will be using the DIC concentrations that have been determined using CRM averages per DIC cell instead of all cells per instrument. "
   ]
  },
  {
   "cell_type": "code",
   "execution_count": 11,
   "metadata": {},
   "outputs": [
    {
     "name": "stdout",
     "output_type": "stream",
     "text": [
      "sampling_date found in the columns of the DataFrame. Make sure it's correctly populated, i.e. not empty.\n",
      "Check that nuts are given!\n"
     ]
    }
   ],
   "source": [
    "vindta = CalcTA(vindta_data)"
   ]
  },
  {
   "cell_type": "markdown",
   "metadata": {},
   "source": [
    "***\n",
    "# Assign HCl Batches"
   ]
  },
  {
   "cell_type": "markdown",
   "metadata": {},
   "source": [
    "A function within the Class will assign an acid batch based on a list of dates OR a list of DIC cells. If only 1 acid batch was used from beginning to end of the analysis period, then this list can contain just the date/cell of the first day of analysis. If the acid batch was changed or topped up, add the dates/cells when this was done to the list and also include the last date/cell of analysis. \n",
    "\n",
    "The Class will have converted the `Date (analysis)` and `analysis_datetime` columns to DateTime objects. \n",
    "\n",
    "If using dates, the dates in the list need to be in `%Y-%m-%d` format!! "
   ]
  },
  {
   "cell_type": "code",
   "execution_count": 12,
   "metadata": {},
   "outputs": [],
   "source": [
    "# List with dates when acid batch was changed (including the first and last day in the file) in format yyyy-mm-dd\n",
    "acidbatches_dates = [\"2024-01-18\", \"2024-01-31\", \"2024-02-07\", \"2024-02-11\", \"2024-02-16\", \"2024-03-09\"] # UPDATE THE LAST DATE IN THE LIST\n",
    "# List with cells when acid batch was changed (including the first one and using 100 as the last one to make sure none are excluded)\n",
    "acidbatches_cells = [1, 7, 12, 20, 100] # UPDATE THE LAST CELL IN THE LIST\n"
   ]
  },
  {
   "cell_type": "code",
   "execution_count": 13,
   "metadata": {},
   "outputs": [],
   "source": [
    "vindta.assign_acidbatch_(acidbatchlist = acidbatches_cells, use = \"cells\")"
   ]
  },
  {
   "cell_type": "markdown",
   "metadata": {},
   "source": [
    "***\n",
    "# Pipette Volumes"
   ]
  },
  {
   "cell_type": "markdown",
   "metadata": {},
   "source": [
    "Pipette calibrations have been checked in `DICTA_fileprep.ipynb`. Have a look there if you need to check something. "
   ]
  },
  {
   "cell_type": "code",
   "execution_count": 14,
   "metadata": {},
   "outputs": [
    {
     "data": {
      "text/plain": [
       "array([21.8442])"
      ]
     },
     "execution_count": 14,
     "metadata": {},
     "output_type": "execute_result"
    },
    {
     "data": {
      "text/plain": [
       "array([96.7556])"
      ]
     },
     "execution_count": 14,
     "metadata": {},
     "output_type": "execute_result"
    }
   ],
   "source": [
    "# Length of the following arrays should all be 1!\n",
    "vindta_data[\"DIC pipette volume (ml)\"].unique()\n",
    "vindta_data[\"TA pipette vol (ml)\"].unique()"
   ]
  },
  {
   "cell_type": "markdown",
   "metadata": {},
   "source": [
    "***\n",
    "# Remove faulty CRM TA runs"
   ]
  },
  {
   "cell_type": "markdown",
   "metadata": {},
   "source": [
    "Here, remove any faulty CRM runs that have already been identified in the lab. "
   ]
  },
  {
   "cell_type": "code",
   "execution_count": 15,
   "metadata": {},
   "outputs": [],
   "source": [
    "remove_these_crm_rows = [] # add filenames (strings) in list, e.g. \"8888_0208_0168_0_1_1\", \"8888_0208_0168_0_1_2\"\n",
    "\n",
    "# Drop for each of the classes\n",
    "vindta.df_ta = vindta.df_ta.loc[~vindta.df_ta[\"Sample Name\"].isin(remove_these_crm_rows)].reset_index(drop = True)"
   ]
  },
  {
   "cell_type": "markdown",
   "metadata": {},
   "source": [
    "***\n",
    "# Prepare MetaData"
   ]
  },
  {
   "cell_type": "markdown",
   "metadata": {},
   "source": [
    "Calkulate is used to determine the HCl concentration (acid calibration) and subsequently the TA concentration (see below). The modules need a DataFrame with all the required meta-data as input. The module will create a default DataFrame, but a dataframe (manually created) can also be given. \n",
    "\n",
    "Check the following docs for info on the required metadata input: https://calkulate.readthedocs.io/en/latest/metadata/#dataset-column-names\n",
    "\n",
    "\n",
    "Refs: Humphreys, M. P. and Matthews, R. S. (2021). Calkulate: total alkalinity from titration data in Python. Zenodo. doi:10.5281/zenodo.2634304."
   ]
  },
  {
   "cell_type": "code",
   "execution_count": 22,
   "metadata": {
    "tags": []
   },
   "outputs": [
    {
     "name": "stdout",
     "output_type": "stream",
     "text": [
      "Using dic_sample_umol_per_kg to calculate TA. Can be changed in column_names file if necessary.\n",
      "Find DataFrame as self.ds_ta_calk - to be used in TA calculations. Edit if necessary. \n"
     ]
    },
    {
     "data": {
      "text/html": [
       "<div>\n",
       "<style scoped>\n",
       "    .dataframe tbody tr th:only-of-type {\n",
       "        vertical-align: middle;\n",
       "    }\n",
       "\n",
       "    .dataframe tbody tr th {\n",
       "        vertical-align: top;\n",
       "    }\n",
       "\n",
       "    .dataframe thead th {\n",
       "        text-align: right;\n",
       "    }\n",
       "</style>\n",
       "<table border=\"1\" class=\"dataframe\">\n",
       "  <thead>\n",
       "    <tr style=\"text-align: right;\">\n",
       "      <th></th>\n",
       "      <th>file_name</th>\n",
       "      <th>salinity</th>\n",
       "      <th>analyte_volume</th>\n",
       "      <th>alkalinity_certified</th>\n",
       "      <th>analysis_batch</th>\n",
       "      <th>dic</th>\n",
       "      <th>file_path</th>\n",
       "      <th>total_silicate</th>\n",
       "      <th>total_phosphate</th>\n",
       "    </tr>\n",
       "  </thead>\n",
       "  <tbody>\n",
       "    <tr>\n",
       "      <th>0</th>\n",
       "      <td>8888_208_1208_0_1_1.dat</td>\n",
       "      <td>33.1400</td>\n",
       "      <td>96.7556</td>\n",
       "      <td>2215.76</td>\n",
       "      <td>1.0</td>\n",
       "      <td>2059.660000</td>\n",
       "      <td>/Users/eldros001/ED_Science/VINDTA_DATA_PROCES...</td>\n",
       "      <td>3.3</td>\n",
       "      <td>0.58</td>\n",
       "    </tr>\n",
       "    <tr>\n",
       "      <th>1</th>\n",
       "      <td>8888_208_1208_0_1_2.dat</td>\n",
       "      <td>33.1400</td>\n",
       "      <td>96.7556</td>\n",
       "      <td>2215.76</td>\n",
       "      <td>1.0</td>\n",
       "      <td>2059.660000</td>\n",
       "      <td>/Users/eldros001/ED_Science/VINDTA_DATA_PROCES...</td>\n",
       "      <td>3.3</td>\n",
       "      <td>0.58</td>\n",
       "    </tr>\n",
       "    <tr>\n",
       "      <th>2</th>\n",
       "      <td>0000_003_6_356_1_1.dat</td>\n",
       "      <td>34.6034</td>\n",
       "      <td>96.7556</td>\n",
       "      <td>NaN</td>\n",
       "      <td>1.0</td>\n",
       "      <td>2249.843927</td>\n",
       "      <td>/Users/eldros001/ED_Science/VINDTA_DATA_PROCES...</td>\n",
       "      <td>0.0</td>\n",
       "      <td>0.00</td>\n",
       "    </tr>\n",
       "    <tr>\n",
       "      <th>3</th>\n",
       "      <td>0000_003_6_356_2_1.dat</td>\n",
       "      <td>34.6034</td>\n",
       "      <td>96.7556</td>\n",
       "      <td>NaN</td>\n",
       "      <td>1.0</td>\n",
       "      <td>2246.986505</td>\n",
       "      <td>/Users/eldros001/ED_Science/VINDTA_DATA_PROCES...</td>\n",
       "      <td>0.0</td>\n",
       "      <td>0.00</td>\n",
       "    </tr>\n",
       "    <tr>\n",
       "      <th>4</th>\n",
       "      <td>0000_003_2_456_1_1.dat</td>\n",
       "      <td>34.6246</td>\n",
       "      <td>96.7556</td>\n",
       "      <td>NaN</td>\n",
       "      <td>1.0</td>\n",
       "      <td>2250.123120</td>\n",
       "      <td>/Users/eldros001/ED_Science/VINDTA_DATA_PROCES...</td>\n",
       "      <td>0.0</td>\n",
       "      <td>0.00</td>\n",
       "    </tr>\n",
       "    <tr>\n",
       "      <th>...</th>\n",
       "      <td>...</td>\n",
       "      <td>...</td>\n",
       "      <td>...</td>\n",
       "      <td>...</td>\n",
       "      <td>...</td>\n",
       "      <td>...</td>\n",
       "      <td>...</td>\n",
       "      <td>...</td>\n",
       "      <td>...</td>\n",
       "    </tr>\n",
       "    <tr>\n",
       "      <th>498</th>\n",
       "      <td>6666_202402090717_8_350_1_1.dat</td>\n",
       "      <td>34.6800</td>\n",
       "      <td>96.7556</td>\n",
       "      <td>NaN</td>\n",
       "      <td>4.0</td>\n",
       "      <td>2201.072531</td>\n",
       "      <td>/Users/eldros001/ED_Science/VINDTA_DATA_PROCES...</td>\n",
       "      <td>0.0</td>\n",
       "      <td>0.00</td>\n",
       "    </tr>\n",
       "    <tr>\n",
       "      <th>499</th>\n",
       "      <td>6666_202402140707_11_350_1_1.dat</td>\n",
       "      <td>34.6800</td>\n",
       "      <td>96.7556</td>\n",
       "      <td>NaN</td>\n",
       "      <td>4.0</td>\n",
       "      <td>2201.871534</td>\n",
       "      <td>/Users/eldros001/ED_Science/VINDTA_DATA_PROCES...</td>\n",
       "      <td>0.0</td>\n",
       "      <td>0.00</td>\n",
       "    </tr>\n",
       "    <tr>\n",
       "      <th>500</th>\n",
       "      <td>6666_202402161917_14_350_1_1.dat</td>\n",
       "      <td>34.6800</td>\n",
       "      <td>96.7556</td>\n",
       "      <td>NaN</td>\n",
       "      <td>4.0</td>\n",
       "      <td>2207.939937</td>\n",
       "      <td>/Users/eldros001/ED_Science/VINDTA_DATA_PROCES...</td>\n",
       "      <td>0.0</td>\n",
       "      <td>0.00</td>\n",
       "    </tr>\n",
       "    <tr>\n",
       "      <th>501</th>\n",
       "      <td>8888_208_0278_0_1_1.dat</td>\n",
       "      <td>33.1400</td>\n",
       "      <td>96.7556</td>\n",
       "      <td>2215.76</td>\n",
       "      <td>4.0</td>\n",
       "      <td>2059.660000</td>\n",
       "      <td>/Users/eldros001/ED_Science/VINDTA_DATA_PROCES...</td>\n",
       "      <td>3.3</td>\n",
       "      <td>0.58</td>\n",
       "    </tr>\n",
       "    <tr>\n",
       "      <th>502</th>\n",
       "      <td>8888_208_0278_0_1_2.dat</td>\n",
       "      <td>33.1400</td>\n",
       "      <td>96.7556</td>\n",
       "      <td>2215.76</td>\n",
       "      <td>4.0</td>\n",
       "      <td>2059.660000</td>\n",
       "      <td>/Users/eldros001/ED_Science/VINDTA_DATA_PROCES...</td>\n",
       "      <td>3.3</td>\n",
       "      <td>0.58</td>\n",
       "    </tr>\n",
       "  </tbody>\n",
       "</table>\n",
       "<p>503 rows × 9 columns</p>\n",
       "</div>"
      ],
      "text/plain": [
       "                            file_name  salinity  analyte_volume  \\\n",
       "0             8888_208_1208_0_1_1.dat   33.1400         96.7556   \n",
       "1             8888_208_1208_0_1_2.dat   33.1400         96.7556   \n",
       "2              0000_003_6_356_1_1.dat   34.6034         96.7556   \n",
       "3              0000_003_6_356_2_1.dat   34.6034         96.7556   \n",
       "4              0000_003_2_456_1_1.dat   34.6246         96.7556   \n",
       "..                                ...       ...             ...   \n",
       "498   6666_202402090717_8_350_1_1.dat   34.6800         96.7556   \n",
       "499  6666_202402140707_11_350_1_1.dat   34.6800         96.7556   \n",
       "500  6666_202402161917_14_350_1_1.dat   34.6800         96.7556   \n",
       "501           8888_208_0278_0_1_1.dat   33.1400         96.7556   \n",
       "502           8888_208_0278_0_1_2.dat   33.1400         96.7556   \n",
       "\n",
       "     alkalinity_certified  analysis_batch          dic  \\\n",
       "0                 2215.76             1.0  2059.660000   \n",
       "1                 2215.76             1.0  2059.660000   \n",
       "2                     NaN             1.0  2249.843927   \n",
       "3                     NaN             1.0  2246.986505   \n",
       "4                     NaN             1.0  2250.123120   \n",
       "..                    ...             ...          ...   \n",
       "498                   NaN             4.0  2201.072531   \n",
       "499                   NaN             4.0  2201.871534   \n",
       "500                   NaN             4.0  2207.939937   \n",
       "501               2215.76             4.0  2059.660000   \n",
       "502               2215.76             4.0  2059.660000   \n",
       "\n",
       "                                             file_path  total_silicate  \\\n",
       "0    /Users/eldros001/ED_Science/VINDTA_DATA_PROCES...             3.3   \n",
       "1    /Users/eldros001/ED_Science/VINDTA_DATA_PROCES...             3.3   \n",
       "2    /Users/eldros001/ED_Science/VINDTA_DATA_PROCES...             0.0   \n",
       "3    /Users/eldros001/ED_Science/VINDTA_DATA_PROCES...             0.0   \n",
       "4    /Users/eldros001/ED_Science/VINDTA_DATA_PROCES...             0.0   \n",
       "..                                                 ...             ...   \n",
       "498  /Users/eldros001/ED_Science/VINDTA_DATA_PROCES...             0.0   \n",
       "499  /Users/eldros001/ED_Science/VINDTA_DATA_PROCES...             0.0   \n",
       "500  /Users/eldros001/ED_Science/VINDTA_DATA_PROCES...             0.0   \n",
       "501  /Users/eldros001/ED_Science/VINDTA_DATA_PROCES...             3.3   \n",
       "502  /Users/eldros001/ED_Science/VINDTA_DATA_PROCES...             3.3   \n",
       "\n",
       "     total_phosphate  \n",
       "0               0.58  \n",
       "1               0.58  \n",
       "2               0.00  \n",
       "3               0.00  \n",
       "4               0.00  \n",
       "..               ...  \n",
       "498             0.00  \n",
       "499             0.00  \n",
       "500             0.00  \n",
       "501             0.58  \n",
       "502             0.58  \n",
       "\n",
       "[503 rows x 9 columns]"
      ]
     },
     "execution_count": 22,
     "metadata": {},
     "output_type": "execute_result"
    }
   ],
   "source": [
    "datfile_dir = \"/Users/eldros001/ED_Science\" + \"/UEA_VINDTA_DATA_PROCESSING/rawdata/\" # This needs to be an absolute directory path, not a relative one. To find it, run the line below. \n",
    "vindta.create_calk_dict(path_to_datfiles = datfile_dir, calk_dict = \"default\")\n",
    "vindta.create_calk_ds() \n",
    "vindta.ds_ta_calk\n"
   ]
  },
  {
   "cell_type": "code",
   "execution_count": 23,
   "metadata": {},
   "outputs": [
    {
     "name": "stdout",
     "output_type": "stream",
     "text": [
      "/Users/eldros001/ED_Science/VINDTA_DATA_PROCESSING/rawdata\n"
     ]
    }
   ],
   "source": [
    "%%bash\n",
    "\n",
    "cd ../rawdata/\n",
    "\n",
    "pwd"
   ]
  },
  {
   "cell_type": "markdown",
   "metadata": {},
   "source": [
    "<font color=orange> Note: the module and Class are designed so that you can also manually construct a dictionary for Calkulate. Look into `calc_TA.py` on how to do that </font>"
   ]
  },
  {
   "cell_type": "markdown",
   "metadata": {},
   "source": [
    "***\n",
    "# HCl Concentration"
   ]
  },
  {
   "cell_type": "markdown",
   "metadata": {},
   "source": [
    "Calibrate titrant molinity using the Calkulate package. Note that here we're working with Version 23! \n",
    "\n",
    "\n",
    "\n",
    "\"For each titration (i.e. row in the Dataset) that has an alkalinity_certified value, this method determines the titrant molinity (in mol/kg-solution) that is required for the titration to return its certified alkalinity value. This is stored in a new column in the Dataset called titrant_molinity_here.\n",
    "\n",
    "Then, the titrant_molinity_here values are averaged — by analysis_batch if provided, or over the entire Dataset if not — and stored in a new column called titrant_molinity.\" (Humphreys&Matthews, 2021)"
   ]
  },
  {
   "cell_type": "code",
   "execution_count": 24,
   "metadata": {
    "tags": []
   },
   "outputs": [],
   "source": [
    "# ds = calk.calkulate(ds)\n",
    "# vindta.ds_ta_calk.calkulate() # in place"
   ]
  },
  {
   "cell_type": "code",
   "execution_count": 25,
   "metadata": {},
   "outputs": [
    {
     "name": "stdout",
     "output_type": "stream",
     "text": [
      "Calkulate: calibrating titrant_molinity...\n",
      "Calkulate: calibration complete!\n",
      "Standard deviation per batch also calculated.\n",
      "Find calibrated titrant data added to self.ds_ta_calk DataFrame :) \n"
     ]
    }
   ],
   "source": [
    "vindta.hcl_conc()\n"
   ]
  },
  {
   "cell_type": "code",
   "execution_count": 26,
   "metadata": {},
   "outputs": [
    {
     "data": {
      "text/html": [
       "<iframe\n",
       "    scrolling=\"no\"\n",
       "    width=\"100%\"\n",
       "    height=\"545px\"\n",
       "    src=\"iframe_figures/figure_40.html\"\n",
       "    frameborder=\"0\"\n",
       "    allowfullscreen\n",
       "></iframe>\n"
      ]
     },
     "metadata": {},
     "output_type": "display_data"
    },
    {
     "name": "stdout",
     "output_type": "stream",
     "text": [
      "Figure saved as self.plot_hcl_conc_fig\n"
     ]
    }
   ],
   "source": [
    "vindta.plot_hcl_conc()"
   ]
  },
  {
   "cell_type": "code",
   "execution_count": 27,
   "metadata": {},
   "outputs": [
    {
     "data": {
      "image/png": "[encoded data removed]",
      "text/plain": [
       "<Figure size 720x360 with 1 Axes>"
      ]
     },
     "metadata": {
      "needs_background": "light"
     },
     "output_type": "display_data"
    }
   ],
   "source": [
    "fig = plt.figure(figsize = (10, 5))\n",
    "ax0 = fig.add_subplot(111)\n",
    "\n",
    "ax0.scatter(vindta.df_ta[\"analysis_datetime\"], vindta.ds_ta_calk[\"titrant_molinity_here\"], c = \"k\")\n",
    "\n",
    "molinity_mean = np.nanmean(vindta.ds_ta_calk[\"titrant_molinity_here\"])\n",
    "molinity_std = np.nanstd(vindta.ds_ta_calk[\"titrant_molinity_here\"])\n",
    "\n",
    "ax0.axhline(y = molinity_mean, zorder = 0)\n",
    "ax0.axhline(y = molinity_mean + 2*molinity_std, c = \"b\", ls = \"--\", lw = 3, zorder = 0)\n",
    "ax0.axhline(y = molinity_mean - 2*molinity_std, c = \"b\", ls = \"--\", lw = 3, zorder = 0)\n",
    "ax0.axhline(y = molinity_mean + 3*molinity_std, c = \"g\", ls = \":\", lw = 3, zorder = 0)\n",
    "ax0.axhline(y = molinity_mean - 3*molinity_std, c = \"g\", ls = \":\", lw = 3, zorder = 0)\n",
    "\n",
    "# add dates of batch changes\n",
    "for d in acidbatches_dates:\n",
    "    ax0.axvline(pd.to_datetime(d), c = \"r\")\n",
    "\n",
    "ax0.tick_params(axis = \"x\", labelsize = 16, labelrotation = 45)\n",
    "ax0.tick_params(axis = \"y\", labelsize = 16)\n",
    "\n",
    "ax0.set_ylabel(\"Titrant Molinity\", fontsize = 16)\n",
    "ax0.set_xlabel(\"Analysis Date\", fontsize = 16, labelpad = 30);"
   ]
  },
  {
   "cell_type": "code",
   "execution_count": 28,
   "metadata": {},
   "outputs": [
    {
     "data": {
      "text/plain": [
       "count    89.000000\n",
       "mean      0.099589\n",
       "std       0.000122\n",
       "min       0.099158\n",
       "25%       0.099532\n",
       "50%       0.099598\n",
       "75%       0.099661\n",
       "max       0.099996\n",
       "Name: titrant_molinity_here, dtype: float64"
      ]
     },
     "execution_count": 28,
     "metadata": {},
     "output_type": "execute_result"
    }
   ],
   "source": [
    "vindta.ds_ta_calk[\"titrant_molinity_here\"].describe()"
   ]
  },
  {
   "cell_type": "markdown",
   "metadata": {},
   "source": [
    "***\n",
    "# Preliminary TA Determination"
   ]
  },
  {
   "cell_type": "markdown",
   "metadata": {},
   "source": [
    "\"For each titration (i.e. row in the Dataset) that has an titrant_molinity value (e.g. as generated by ds.calibrate() above), this method determines its total alkalinity in μmol/kg-solution. The results are stored in a new column in the Dataset called alkalinity.\" (Humphreys&Matthews, 2021)\n",
    " "
   ]
  },
  {
   "cell_type": "code",
   "execution_count": 29,
   "metadata": {},
   "outputs": [],
   "source": [
    "# ds.solve()"
   ]
  },
  {
   "cell_type": "markdown",
   "metadata": {},
   "source": [
    "<font color=orange> Titrant molinity is per batch. "
   ]
  },
  {
   "cell_type": "code",
   "execution_count": 30,
   "metadata": {},
   "outputs": [
    {
     "name": "stdout",
     "output_type": "stream",
     "text": [
      "Calkulate: solving alkalinity...\n",
      "Calkulate: ERROR solving '0000_019_21_6_1_1.dat'!\n",
      "Calkulate: ERROR solving '0000_036_4_300_3_1.dat'!\n",
      "Calkulate: ERROR solving '0000_039_20_5_1_1.dat'!\n",
      "Calkulate: ERROR solving '0000_087_20_17_1_1.dat'!\n",
      "Calkulate: solving complete!\n"
     ]
    }
   ],
   "source": [
    "# vindta.ds_ta_calk.solve()\n",
    "vindta.calc_ta()\n"
   ]
  },
  {
   "cell_type": "code",
   "execution_count": 31,
   "metadata": {},
   "outputs": [
    {
     "data": {
      "text/html": [
       "<iframe\n",
       "    scrolling=\"no\"\n",
       "    width=\"100%\"\n",
       "    height=\"545px\"\n",
       "    src=\"iframe_figures/figure_40.html\"\n",
       "    frameborder=\"0\"\n",
       "    allowfullscreen\n",
       "></iframe>\n"
      ]
     },
     "metadata": {},
     "output_type": "display_data"
    },
    {
     "name": "stdout",
     "output_type": "stream",
     "text": [
      "Figure saved as self.ta_x_chart_fig\n"
     ]
    }
   ],
   "source": [
    "vindta.ta_x_chart()"
   ]
  },
  {
   "cell_type": "code",
   "execution_count": 32,
   "metadata": {},
   "outputs": [
    {
     "data": {
      "text/plain": [
       "count      89.000000\n",
       "mean     2215.793876\n",
       "std         2.019884\n",
       "min      2209.857644\n",
       "25%      2214.528266\n",
       "50%      2215.803699\n",
       "75%      2216.679983\n",
       "max      2221.838282\n",
       "Name: alkalinity_umolkg, dtype: float64"
      ]
     },
     "execution_count": 32,
     "metadata": {},
     "output_type": "execute_result"
    }
   ],
   "source": [
    "vindta.df_ta[\"alkalinity_umolkg\"][vindta.df_ta[\"Station\"]==8888].describe()"
   ]
  },
  {
   "cell_type": "markdown",
   "metadata": {},
   "source": [
    "***\n",
    "# Remove/flag CRMs"
   ]
  },
  {
   "cell_type": "markdown",
   "metadata": {},
   "source": [
    "Here, remove any other CRMs or flag them if necessary. If you remove them, re-do the calculations above. "
   ]
  },
  {
   "cell_type": "markdown",
   "metadata": {
    "tags": []
   },
   "source": [
    "***\n",
    "# Save the data"
   ]
  },
  {
   "cell_type": "code",
   "execution_count": 33,
   "metadata": {},
   "outputs": [],
   "source": [
    "prelim_datadir = Path(\"../output_data/DICTA_calculated/\")\n",
    "prelim_datafile = \"dicta_prelim_\" + datetime.date.today().strftime(format = \"%Y%m%d\") + \".csv\"\n",
    "vindta.df_ta.to_csv(prelim_datadir / prelim_datafile, index = False)"
   ]
  },
  {
   "cell_type": "markdown",
   "metadata": {},
   "source": [
    ":)"
   ]
  }
 ],
 "metadata": {
  "kernelspec": {
   "display_name": "“env_dicta_kernel”",
   "language": "python",
   "name": "env_dicta"
  },
  "language_info": {
   "codemirror_mode": {
    "name": "ipython",
    "version": 3
   },
   "file_extension": ".py",
   "mimetype": "text/x-python",
   "name": "python",
   "nbconvert_exporter": "python",
   "pygments_lexer": "ipython3",
   "version": "3.8.8"
  }
 },
 "nbformat": 4,
 "nbformat_minor": 4
}
